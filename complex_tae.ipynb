{
 "cells": [
  {
   "cell_type": "code",
   "execution_count": 1,
   "id": "2bc03e7c",
   "metadata": {},
   "outputs": [],
   "source": [
    "import torch\n",
    "import torch.nn as nn\n",
    "import torch.nn.functional as F\n",
    "\n",
    "\n",
    "from torchvision.datasets import MNIST\n",
    "from torchvision import transforms as T\n",
    "\n",
    "import matplotlib.pyplot as plt\n",
    "import numpy as np"
   ]
  },
  {
   "cell_type": "code",
   "execution_count": null,
   "id": "64232e5d",
   "metadata": {},
   "outputs": [],
   "source": [
    "class Capsule(nn.Module):\n",
    "    def __init__(self, smth):\n",
    "        super().__init__()\n",
    "        self.encoder = None\n",
    "        self.decoder = None\n",
    "        \n",
    "        \n",
    "    def encode(self, img):\n",
    "        # img: [B, 1, 28, 28]\n",
    "        # p: B, 1\n",
    "        # xy: B, 2\n",
    "        return p, xy\n",
    "    \n",
    "    def decode(self, xy):\n",
    "        # xy: B, 2\n",
    "        # img: [B, 1, 28, 28]\n",
    "        return img"
   ]
  },
  {
   "cell_type": "code",
   "execution_count": null,
   "id": "ffc5fb5f",
   "metadata": {},
   "outputs": [],
   "source": [
    "class TAE(nn.Module):\n",
    "    \n",
    "    def __init__(self, num_caps):\n",
    "        super().__init__()\n",
    "        self.caps = nn.ModuleList([\n",
    "            Capsule(None) for _ in range(num_caps) \n",
    "        ])\n",
    "        \n",
    "    def encode(self, x):\n",
    "        return [(p1, xy1), (p2, xy2)]\n",
    "    \n",
    "    \n",
    "    def decode(self, xy_list):\n",
    "        return [img1, img2, img3]\n",
    "    \n",
    "    \n",
    "    def forward(self, img, dx_dy):\n",
    "        [(p1, xy1), (p2, xy2), ...] = self.encode(img)\n",
    "        xy1 = xy1 + dx_dy\n",
    "        xy2 = xy2 + dx_dy\n",
    "        ...\n",
    "        [img1, img2, img3, ...] = self.decode([xy1, xy2, xy3, ....])\n",
    "        output_image = p1 * img1 + p2 * img2 + p3 * img3 ...\n",
    "        return output_image"
   ]
  },
  {
   "cell_type": "code",
   "execution_count": null,
   "id": "0e8c0108",
   "metadata": {},
   "outputs": [],
   "source": []
  },
  {
   "cell_type": "code",
   "execution_count": null,
   "id": "36d2549b",
   "metadata": {},
   "outputs": [],
   "source": []
  },
  {
   "cell_type": "code",
   "execution_count": null,
   "id": "6610c2e0",
   "metadata": {},
   "outputs": [],
   "source": []
  },
  {
   "cell_type": "code",
   "execution_count": null,
   "id": "ae8e3f55",
   "metadata": {},
   "outputs": [],
   "source": []
  },
  {
   "cell_type": "code",
   "execution_count": null,
   "id": "65507695",
   "metadata": {},
   "outputs": [],
   "source": []
  },
  {
   "cell_type": "code",
   "execution_count": null,
   "id": "bae69a0e",
   "metadata": {},
   "outputs": [],
   "source": []
  },
  {
   "cell_type": "code",
   "execution_count": null,
   "id": "fad19b2e",
   "metadata": {},
   "outputs": [],
   "source": []
  },
  {
   "cell_type": "code",
   "execution_count": null,
   "id": "177314cd",
   "metadata": {},
   "outputs": [],
   "source": []
  },
  {
   "cell_type": "code",
   "execution_count": null,
   "id": "52d4da08",
   "metadata": {},
   "outputs": [],
   "source": []
  }
 ],
 "metadata": {
  "kernelspec": {
   "display_name": "Python 3",
   "language": "python",
   "name": "python3"
  },
  "language_info": {
   "codemirror_mode": {
    "name": "ipython",
    "version": 3
   },
   "file_extension": ".py",
   "mimetype": "text/x-python",
   "name": "python",
   "nbconvert_exporter": "python",
   "pygments_lexer": "ipython3",
   "version": "3.7.7"
  }
 },
 "nbformat": 4,
 "nbformat_minor": 5
}
