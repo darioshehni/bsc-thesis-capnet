{
 "cells": [
  {
   "cell_type": "code",
<<<<<<< HEAD
   "execution_count": 145,
=======
   "execution_count": 3,
>>>>>>> 0e44f242fb424e786e6871e33b126d2123a6b4c5
   "id": "6825ca52",
   "metadata": {},
   "outputs": [],
   "source": [
    "import torch\n",
<<<<<<< HEAD
    "import pprint as pp\n",
    "import torchvision\n",
    "from torch import nn\n",
    "from torch.utils.data import DataLoader\n",
    "import torch.nn.functional as F\n",
    "from torchvision import datasets\n",
    "from torchvision.transforms import ToTensor, Lambda, Compose\n",
    "import matplotlib.pyplot as plt\n",
    "import torch.optim as optim\n",
    "from torch.optim.lr_scheduler import StepLR\n",
    "from torchvision import datasets, transforms\n",
    "import numpy as np\n",
    "\n",
    "import matplotlib.pyplot as plt"
   ]
  },
  {
   "cell_type": "code",
   "execution_count": 146,
   "id": "0bc1ecb3",
   "metadata": {},
   "outputs": [],
   "source": [
    "# hyperparameters\n",
    "\n",
    "batch_size = 64\n",
    "learning_rate = 0.01\n",
    "weight_decay = 1e-5\n",
    "momentum = 0.5"
   ]
  },
  {
   "cell_type": "code",
   "execution_count": 255,
   "id": "94cded71",
   "metadata": {},
   "outputs": [
    {
     "name": "stdout",
     "output_type": "stream",
     "text": [
      "Shape of X [N, C, H, W]:  torch.Size([64, 1, 28, 28])\n",
      "Shape of y:  torch.Size([64]) torch.int64\n"
     ]
    }
   ],
   "source": [
    "# Create data loaders.\n",
    "\n",
    "transform = torchvision.transforms.Compose([\n",
    "              torchvision.transforms.ToTensor(),\n",
    "              torchvision.transforms.Normalize((0.1307,), (0.3081,))\n",
    "              #torchvision.transforms.RandomRotation(20)\n",
    "            ])\n",
    "train_dataloader = torch.utils.data.DataLoader(\n",
    "  torchvision.datasets.MNIST('/files/', train=True, download=True,\n",
    "                             transform=transform),\n",
    "  batch_size=batch_size, shuffle=True, drop_last=True)\n",
    "\n",
    "test_dataloader = torch.utils.data.DataLoader(\n",
    "  torchvision.datasets.MNIST('/files/', train=False, download=True,\n",
    "                             transform=transform),\n",
    "  batch_size=batch_size, shuffle=True, drop_last=True)\n",
    "\n",
    "for X, y in test_dataloader:\n",
    "    print(\"Shape of X [N, C, H, W]: \", X.shape)\n",
    "    print(\"Shape of y: \", y.shape, y.dtype)\n",
    "    break"
=======
    "import torch.nn as nn\n",
    "import torch.nn.functional as F\n",
    "\n",
    "\n",
    "from torchvision.datasets import MNIST\n",
    "from torchvision import transforms as T\n",
    "\n",
    "import matplotlib.pyplot as plt\n",
    "import numpy as np"
>>>>>>> 0e44f242fb424e786e6871e33b126d2123a6b4c5
   ]
  },
  {
   "cell_type": "code",
<<<<<<< HEAD
   "execution_count": 256,
   "id": "dc54ebbc",
   "metadata": {},
   "outputs": [
    {
     "name": "stdout",
     "output_type": "stream",
     "text": [
      "Using cuda device\n"
     ]
    }
   ],
   "source": [
    "# Get cpu or gpu device for training.\n",
    "device = \"cuda\" if torch.cuda.is_available() else \"cpu\"\n",
    "print(\"Using {} device\".format(device))"
=======
   "execution_count": 6,
   "id": "94cded71",
   "metadata": {},
   "outputs": [],
   "source": [
    "dataset = MNIST('~/Developer/datasets', transform=T.ToTensor())"
>>>>>>> 0e44f242fb424e786e6871e33b126d2123a6b4c5
   ]
  },
  {
   "cell_type": "code",
<<<<<<< HEAD
   "execution_count": null,
   "id": "0506473e",
   "metadata": {},
   "outputs": [],
   "source": []
  },
  {
   "cell_type": "code",
   "execution_count": 523,
=======
   "execution_count": 45,
>>>>>>> 0e44f242fb424e786e6871e33b126d2123a6b4c5
   "id": "b254dead",
   "metadata": {},
   "outputs": [],
   "source": [
<<<<<<< HEAD
    "def shift_image(image):\n",
=======
    "def shit_image(image):\n",
>>>>>>> 0e44f242fb424e786e6871e33b126d2123a6b4c5
    "    dx = np.random.randint(-3, 4)\n",
    "    dy = np.random.randint(-3, 4)\n",
    "    image = torch.roll(image, dx, -1)\n",
    "    image = torch.roll(image, dy, -2)\n",
    "    return image, dx, dy"
   ]
  },
  {
   "cell_type": "code",
<<<<<<< HEAD
   "execution_count": 524,
=======
   "execution_count": null,
>>>>>>> 0e44f242fb424e786e6871e33b126d2123a6b4c5
   "id": "d84755f7",
   "metadata": {},
   "outputs": [],
   "source": [
<<<<<<< HEAD
    "class Capsule(nn.Module):\n",
    "    def __init__(self):\n",
    "        super().__init__()\n",
    "        self.encoder = nn.Sequential(\n",
    "            # N, 1, 28, 28\n",
    "            nn.Conv2d(1, 3, 3, padding=1, bias=False),\n",
    "            nn.BatchNorm2d(3), \n",
    "            nn.ReLU(True),\n",
    "            nn.MaxPool2d(2), # 14\n",
    "            \n",
    "            nn.Conv2d(3, 6, 3, padding=1, bias=False),\n",
    "            nn.BatchNorm2d(6), \n",
    "            nn.ReLU(True),\n",
    "            nn.MaxPool2d(2), # 7\n",
    "\n",
    "            nn.Conv2d(6,6, 7, padding=0, bias=False),\n",
    "            nn.BatchNorm2d(6), \n",
    "            nn.ReLU(True),\n",
    "        )\n",
    "    \n",
    "        self.lin = nn.Sequential(\n",
    "            nn.Dropout(),\n",
    "            nn.Linear(6, 3),\n",
    "        )\n",
    "        \n",
    "        self.decoder_lin = nn.Sequential(\n",
    "            nn.Linear(2, 4*49), \n",
    "        )\n",
    "\n",
    "        self.decoder = nn.Sequential(\n",
    "            nn.ConvTranspose2d(4, 8, 3, padding=1, bias=False), # B, 8, 7, 7\n",
    "            nn.BatchNorm2d(8), \n",
    "            nn.ReLU(True),\n",
    "            nn.ConvTranspose2d(8, 16, 3, stride = 2, padding=1, bias=False, output_padding=1), # B, 16, 14, 14\n",
    "            nn.BatchNorm2d(16), \n",
    "            nn.ReLU(True),\n",
    "            nn.ConvTranspose2d(16, 16, 3, padding=1, bias=False), # B, 16, 14, 14\n",
    "            nn.BatchNorm2d(16), \n",
    "            nn.ReLU(True),\n",
    "            nn.ConvTranspose2d(16, 8, 3, padding=1, bias=False), # B, 8, 14, 14\n",
    "            nn.BatchNorm2d(8), \n",
    "            nn.ReLU(True),\n",
    "            nn.ConvTranspose2d(8, 1, 3, stride = 2, padding=1, bias=False, output_padding=1), # B, 1, 28, 28\n",
    "            nn.Sigmoid()   \n",
    "        )\n",
    "\n",
    "    def encode(self, x):\n",
    "        x = self.encoder(x)\n",
    "        x = x.mean(-1).mean(-1)\n",
    "        z = self.lin(x)\n",
    "        p = z[:,[0]]\n",
    "        xy = z[:,[1,2]]\n",
    "        return p, xy\n",
    "    \n",
    "    \n",
    "    def decode(self, xy):\n",
    "        xy = self.decoder_lin(xy)\n",
    "        xy = torch.reshape(xy, (64, 4 ,7 , 7))\n",
    "        return self.decoder(xy)\n",
    "    \n",
    "capsule = Capsule().to(device)"
=======
    "# Encoder\n",
    "# Decoder\n",
    "# train function"
>>>>>>> 0e44f242fb424e786e6871e33b126d2123a6b4c5
   ]
  },
  {
   "cell_type": "code",
<<<<<<< HEAD
   "execution_count": 531,
   "id": "9fc77977",
   "metadata": {},
   "outputs": [
    {
     "data": {
      "text/plain": [
       "TAE(\n",
       "  (caps): ModuleList(\n",
       "    (0): Capsule(\n",
       "      (encoder): Sequential(\n",
       "        (0): Conv2d(1, 3, kernel_size=(3, 3), stride=(1, 1), padding=(1, 1), bias=False)\n",
       "        (1): BatchNorm2d(3, eps=1e-05, momentum=0.1, affine=True, track_running_stats=True)\n",
       "        (2): ReLU(inplace=True)\n",
       "        (3): MaxPool2d(kernel_size=2, stride=2, padding=0, dilation=1, ceil_mode=False)\n",
       "        (4): Conv2d(3, 6, kernel_size=(3, 3), stride=(1, 1), padding=(1, 1), bias=False)\n",
       "        (5): BatchNorm2d(6, eps=1e-05, momentum=0.1, affine=True, track_running_stats=True)\n",
       "        (6): ReLU(inplace=True)\n",
       "        (7): MaxPool2d(kernel_size=2, stride=2, padding=0, dilation=1, ceil_mode=False)\n",
       "        (8): Conv2d(6, 6, kernel_size=(7, 7), stride=(1, 1), bias=False)\n",
       "        (9): BatchNorm2d(6, eps=1e-05, momentum=0.1, affine=True, track_running_stats=True)\n",
       "        (10): ReLU(inplace=True)\n",
       "      )\n",
       "      (lin): Sequential(\n",
       "        (0): Dropout(p=0.5, inplace=False)\n",
       "        (1): Linear(in_features=6, out_features=3, bias=True)\n",
       "      )\n",
       "      (decoder_lin): Sequential(\n",
       "        (0): Linear(in_features=2, out_features=196, bias=True)\n",
       "      )\n",
       "      (decoder): Sequential(\n",
       "        (0): ConvTranspose2d(4, 8, kernel_size=(3, 3), stride=(1, 1), padding=(1, 1), bias=False)\n",
       "        (1): BatchNorm2d(8, eps=1e-05, momentum=0.1, affine=True, track_running_stats=True)\n",
       "        (2): ReLU(inplace=True)\n",
       "        (3): ConvTranspose2d(8, 16, kernel_size=(3, 3), stride=(2, 2), padding=(1, 1), output_padding=(1, 1), bias=False)\n",
       "        (4): BatchNorm2d(16, eps=1e-05, momentum=0.1, affine=True, track_running_stats=True)\n",
       "        (5): ReLU(inplace=True)\n",
       "        (6): ConvTranspose2d(16, 16, kernel_size=(3, 3), stride=(1, 1), padding=(1, 1), bias=False)\n",
       "        (7): BatchNorm2d(16, eps=1e-05, momentum=0.1, affine=True, track_running_stats=True)\n",
       "        (8): ReLU(inplace=True)\n",
       "        (9): ConvTranspose2d(16, 8, kernel_size=(3, 3), stride=(1, 1), padding=(1, 1), bias=False)\n",
       "        (10): BatchNorm2d(8, eps=1e-05, momentum=0.1, affine=True, track_running_stats=True)\n",
       "        (11): ReLU(inplace=True)\n",
       "        (12): ConvTranspose2d(8, 1, kernel_size=(3, 3), stride=(2, 2), padding=(1, 1), output_padding=(1, 1), bias=False)\n",
       "        (13): Sigmoid()\n",
       "      )\n",
       "    )\n",
       "    (1): Capsule(\n",
       "      (encoder): Sequential(\n",
       "        (0): Conv2d(1, 3, kernel_size=(3, 3), stride=(1, 1), padding=(1, 1), bias=False)\n",
       "        (1): BatchNorm2d(3, eps=1e-05, momentum=0.1, affine=True, track_running_stats=True)\n",
       "        (2): ReLU(inplace=True)\n",
       "        (3): MaxPool2d(kernel_size=2, stride=2, padding=0, dilation=1, ceil_mode=False)\n",
       "        (4): Conv2d(3, 6, kernel_size=(3, 3), stride=(1, 1), padding=(1, 1), bias=False)\n",
       "        (5): BatchNorm2d(6, eps=1e-05, momentum=0.1, affine=True, track_running_stats=True)\n",
       "        (6): ReLU(inplace=True)\n",
       "        (7): MaxPool2d(kernel_size=2, stride=2, padding=0, dilation=1, ceil_mode=False)\n",
       "        (8): Conv2d(6, 6, kernel_size=(7, 7), stride=(1, 1), bias=False)\n",
       "        (9): BatchNorm2d(6, eps=1e-05, momentum=0.1, affine=True, track_running_stats=True)\n",
       "        (10): ReLU(inplace=True)\n",
       "      )\n",
       "      (lin): Sequential(\n",
       "        (0): Dropout(p=0.5, inplace=False)\n",
       "        (1): Linear(in_features=6, out_features=3, bias=True)\n",
       "      )\n",
       "      (decoder_lin): Sequential(\n",
       "        (0): Linear(in_features=2, out_features=196, bias=True)\n",
       "      )\n",
       "      (decoder): Sequential(\n",
       "        (0): ConvTranspose2d(4, 8, kernel_size=(3, 3), stride=(1, 1), padding=(1, 1), bias=False)\n",
       "        (1): BatchNorm2d(8, eps=1e-05, momentum=0.1, affine=True, track_running_stats=True)\n",
       "        (2): ReLU(inplace=True)\n",
       "        (3): ConvTranspose2d(8, 16, kernel_size=(3, 3), stride=(2, 2), padding=(1, 1), output_padding=(1, 1), bias=False)\n",
       "        (4): BatchNorm2d(16, eps=1e-05, momentum=0.1, affine=True, track_running_stats=True)\n",
       "        (5): ReLU(inplace=True)\n",
       "        (6): ConvTranspose2d(16, 16, kernel_size=(3, 3), stride=(1, 1), padding=(1, 1), bias=False)\n",
       "        (7): BatchNorm2d(16, eps=1e-05, momentum=0.1, affine=True, track_running_stats=True)\n",
       "        (8): ReLU(inplace=True)\n",
       "        (9): ConvTranspose2d(16, 8, kernel_size=(3, 3), stride=(1, 1), padding=(1, 1), bias=False)\n",
       "        (10): BatchNorm2d(8, eps=1e-05, momentum=0.1, affine=True, track_running_stats=True)\n",
       "        (11): ReLU(inplace=True)\n",
       "        (12): ConvTranspose2d(8, 1, kernel_size=(3, 3), stride=(2, 2), padding=(1, 1), output_padding=(1, 1), bias=False)\n",
       "        (13): Sigmoid()\n",
       "      )\n",
       "    )\n",
       "    (2): Capsule(\n",
       "      (encoder): Sequential(\n",
       "        (0): Conv2d(1, 3, kernel_size=(3, 3), stride=(1, 1), padding=(1, 1), bias=False)\n",
       "        (1): BatchNorm2d(3, eps=1e-05, momentum=0.1, affine=True, track_running_stats=True)\n",
       "        (2): ReLU(inplace=True)\n",
       "        (3): MaxPool2d(kernel_size=2, stride=2, padding=0, dilation=1, ceil_mode=False)\n",
       "        (4): Conv2d(3, 6, kernel_size=(3, 3), stride=(1, 1), padding=(1, 1), bias=False)\n",
       "        (5): BatchNorm2d(6, eps=1e-05, momentum=0.1, affine=True, track_running_stats=True)\n",
       "        (6): ReLU(inplace=True)\n",
       "        (7): MaxPool2d(kernel_size=2, stride=2, padding=0, dilation=1, ceil_mode=False)\n",
       "        (8): Conv2d(6, 6, kernel_size=(7, 7), stride=(1, 1), bias=False)\n",
       "        (9): BatchNorm2d(6, eps=1e-05, momentum=0.1, affine=True, track_running_stats=True)\n",
       "        (10): ReLU(inplace=True)\n",
       "      )\n",
       "      (lin): Sequential(\n",
       "        (0): Dropout(p=0.5, inplace=False)\n",
       "        (1): Linear(in_features=6, out_features=3, bias=True)\n",
       "      )\n",
       "      (decoder_lin): Sequential(\n",
       "        (0): Linear(in_features=2, out_features=196, bias=True)\n",
       "      )\n",
       "      (decoder): Sequential(\n",
       "        (0): ConvTranspose2d(4, 8, kernel_size=(3, 3), stride=(1, 1), padding=(1, 1), bias=False)\n",
       "        (1): BatchNorm2d(8, eps=1e-05, momentum=0.1, affine=True, track_running_stats=True)\n",
       "        (2): ReLU(inplace=True)\n",
       "        (3): ConvTranspose2d(8, 16, kernel_size=(3, 3), stride=(2, 2), padding=(1, 1), output_padding=(1, 1), bias=False)\n",
       "        (4): BatchNorm2d(16, eps=1e-05, momentum=0.1, affine=True, track_running_stats=True)\n",
       "        (5): ReLU(inplace=True)\n",
       "        (6): ConvTranspose2d(16, 16, kernel_size=(3, 3), stride=(1, 1), padding=(1, 1), bias=False)\n",
       "        (7): BatchNorm2d(16, eps=1e-05, momentum=0.1, affine=True, track_running_stats=True)\n",
       "        (8): ReLU(inplace=True)\n",
       "        (9): ConvTranspose2d(16, 8, kernel_size=(3, 3), stride=(1, 1), padding=(1, 1), bias=False)\n",
       "        (10): BatchNorm2d(8, eps=1e-05, momentum=0.1, affine=True, track_running_stats=True)\n",
       "        (11): ReLU(inplace=True)\n",
       "        (12): ConvTranspose2d(8, 1, kernel_size=(3, 3), stride=(2, 2), padding=(1, 1), output_padding=(1, 1), bias=False)\n",
       "        (13): Sigmoid()\n",
       "      )\n",
       "    )\n",
       "    (3): Capsule(\n",
       "      (encoder): Sequential(\n",
       "        (0): Conv2d(1, 3, kernel_size=(3, 3), stride=(1, 1), padding=(1, 1), bias=False)\n",
       "        (1): BatchNorm2d(3, eps=1e-05, momentum=0.1, affine=True, track_running_stats=True)\n",
       "        (2): ReLU(inplace=True)\n",
       "        (3): MaxPool2d(kernel_size=2, stride=2, padding=0, dilation=1, ceil_mode=False)\n",
       "        (4): Conv2d(3, 6, kernel_size=(3, 3), stride=(1, 1), padding=(1, 1), bias=False)\n",
       "        (5): BatchNorm2d(6, eps=1e-05, momentum=0.1, affine=True, track_running_stats=True)\n",
       "        (6): ReLU(inplace=True)\n",
       "        (7): MaxPool2d(kernel_size=2, stride=2, padding=0, dilation=1, ceil_mode=False)\n",
       "        (8): Conv2d(6, 6, kernel_size=(7, 7), stride=(1, 1), bias=False)\n",
       "        (9): BatchNorm2d(6, eps=1e-05, momentum=0.1, affine=True, track_running_stats=True)\n",
       "        (10): ReLU(inplace=True)\n",
       "      )\n",
       "      (lin): Sequential(\n",
       "        (0): Dropout(p=0.5, inplace=False)\n",
       "        (1): Linear(in_features=6, out_features=3, bias=True)\n",
       "      )\n",
       "      (decoder_lin): Sequential(\n",
       "        (0): Linear(in_features=2, out_features=196, bias=True)\n",
       "      )\n",
       "      (decoder): Sequential(\n",
       "        (0): ConvTranspose2d(4, 8, kernel_size=(3, 3), stride=(1, 1), padding=(1, 1), bias=False)\n",
       "        (1): BatchNorm2d(8, eps=1e-05, momentum=0.1, affine=True, track_running_stats=True)\n",
       "        (2): ReLU(inplace=True)\n",
       "        (3): ConvTranspose2d(8, 16, kernel_size=(3, 3), stride=(2, 2), padding=(1, 1), output_padding=(1, 1), bias=False)\n",
       "        (4): BatchNorm2d(16, eps=1e-05, momentum=0.1, affine=True, track_running_stats=True)\n",
       "        (5): ReLU(inplace=True)\n",
       "        (6): ConvTranspose2d(16, 16, kernel_size=(3, 3), stride=(1, 1), padding=(1, 1), bias=False)\n",
       "        (7): BatchNorm2d(16, eps=1e-05, momentum=0.1, affine=True, track_running_stats=True)\n",
       "        (8): ReLU(inplace=True)\n",
       "        (9): ConvTranspose2d(16, 8, kernel_size=(3, 3), stride=(1, 1), padding=(1, 1), bias=False)\n",
       "        (10): BatchNorm2d(8, eps=1e-05, momentum=0.1, affine=True, track_running_stats=True)\n",
       "        (11): ReLU(inplace=True)\n",
       "        (12): ConvTranspose2d(8, 1, kernel_size=(3, 3), stride=(2, 2), padding=(1, 1), output_padding=(1, 1), bias=False)\n",
       "        (13): Sigmoid()\n",
       "      )\n",
       "    )\n",
       "  )\n",
       ")"
      ]
     },
     "execution_count": 531,
     "metadata": {},
     "output_type": "execute_result"
    }
   ],
   "source": [
    "num_caps = 4\n",
    "class TAE(nn.Module):\n",
    "    num_caps = 4\n",
    "    def __init__(self, num_caps=4):\n",
    "        super().__init__()\n",
    "        self.caps = nn.ModuleList([\n",
    "            Capsule().to(device) for _ in range(num_caps) \n",
    "        ])\n",
    "        \n",
    "    def encode(self, x):\n",
    "        # print(self.caps[0].encode(x))\n",
    "        pxy_list = [self.caps[i].encode(x) for i in range(num_caps)]\n",
    "        return pxy_list\n",
    "    \n",
    "    \n",
    "    def decode(self, xy_list):\n",
    "        img_list = [self.caps[i].decode(xy_list[i]) for i in range(num_caps)]\n",
    "        return img_list\n",
    "    \n",
    "    \n",
    "    def forward(self, img, dx_dy):\n",
    "        pxy_list = self.encode(img)\n",
    "        p_list = [i[0] for i in pxy_list]\n",
    "        xy_list = [(i[1] + dx_dy )for i in pxy_list]\n",
    "        \n",
    "        img_list = self.decode(xy_list)\n",
    "        \n",
    "        for i, p_batch in enumerate(p_list):\n",
    "            for j, p in enumerate(p_batch):\n",
    "                img_list[i][j] = img_list[i][j]*p\n",
    "\n",
    "        \n",
    "        return img_list\n",
    "\n",
    "model = TAE().to(device)\n",
    "#optimizer = torch.optim.Adam(model.parameters(), lr=learning_rate, weight_decay=weight_decay)\n",
    "optimizer = torch.optim.Adam(model.parameters(), lr=learning_rate)\n",
    "model"
=======
   "execution_count": 46,
   "id": "9fc77977",
   "metadata": {},
   "outputs": [],
   "source": [
    "class Autoencoder_conv(nn.Module):\n",
    "    def __init__(self):\n",
    "        super().__init__()\n",
    "        self.encoder = nn.Sequential(\n",
    "            # N, 1, 28, 28\n",
    "            nn.Conv2d(1, 32, 3, stride=2, padding=1), # N, 32, 14, 14\n",
    "            nn.ReLU(),\n",
    "            nn.Conv2d(32, 16, 3, stride=2, padding=1), # N, 16, 7, 7\n",
    "            nn.ReLU(),\n",
    "            nn.Conv2d(16, 16, 4, stride=2, padding=1), # N, 16, 3, 3\n",
    "            nn.ReLU(),\n",
    "            nn.Conv2d(16, 8, 3), # N, 8, 1, 1\n",
    "            nn.ReLU(),\n",
    "            nn.Conv2d(8, 4, 1), # N, 2, 1, 1\n",
    "        )\n",
    "        self.decoder = nn.Sequential(\n",
    "            # N, 64, 1, 1\n",
    "            nn.ConvTranspose2d(4, 8, 1), # N, 2, 1, 1\n",
    "            nn.ReLU(),\n",
    "            nn.ConvTranspose2d(8, 16, 3), # N, \n",
    "            nn.ReLU(),\n",
    "            nn.ConvTranspose2d(16, 16, 4, stride=2, padding=1, output_padding=1), # N, \n",
    "            nn.ReLU(),\n",
    "            nn.ConvTranspose2d(16, 32, 3, stride=2, padding=1, output_padding=1), # N,\n",
    "            nn.ReLU(),\n",
    "            nn.ConvTranspose2d(32, 1, 3, stride=2, padding=1, output_padding=1),  # N, \n",
    "            nn.Sigmoid()\n",
    "        )\n",
    "        \n",
    "    def encode(self, x):\n",
    "        return self.encoder(x)\n",
    "    \n",
    "    \n",
    "    def decode(self, z):\n",
    "        return self.decoder(z)\n",
    "\n",
    "#     def forward(self, x):\n",
    "#         encoded = self.encoder(x)\n",
    "#         decoded = self.decoder(encoded)\n",
    "#         return decoded"
>>>>>>> 0e44f242fb424e786e6871e33b126d2123a6b4c5
   ]
  },
  {
   "cell_type": "code",
<<<<<<< HEAD
   "execution_count": 532,
=======
   "execution_count": null,
>>>>>>> 0e44f242fb424e786e6871e33b126d2123a6b4c5
   "id": "1e001f82",
   "metadata": {},
   "outputs": [],
   "source": [
<<<<<<< HEAD
    "def train(train_loader):\n",
    "    loss = 0\n",
    "    criterion = nn.MSELoss().to(device)\n",
    "    \n",
    "    for batch_features, target in train_loader:\n",
    "\n",
    "        batch_features, target = batch_features.to(device), target.to(device)\n",
    "        new_features, dx, dy = shift_image(batch_features)\n",
    "\n",
    "        optimizer.zero_grad()\n",
    "\n",
    "        outputs = model(batch_features, torch.Tensor([dx, dy]).to(device))\n",
=======
    "def train(model, device, train_loader, optimizer, epochs, conv):\n",
    "    loss = 0\n",
    "\n",
    "    for batch_features, target in train_loader:\n",
    "        # reshape mini-batch data to [N, 784] matrix\n",
    "        # load it to the active device\n",
    "        \n",
    "#         if conv == False:\n",
    "#             batch_features = batch_features.view(-1, 784).to(device)\n",
    "        new_features, dx, dy = shit_image(batch_features)\n",
    "        # reset the gradients back to zero\n",
    "        # PyTorch accumulates gradients on subsequent backward passes\n",
    "        optimizer.zero_grad()\n",
    "        \n",
    "        # compute reconstructions\n",
    "        # phase 1\n",
    "        z = model.encode(batch_features)\n",
    "        # phase 2\n",
    "        z_shifted = z + torch.Tensor([dx, dy, 0, 0]).view(1, 2, 1, 1).to(device)\n",
    "        # phase 3\n",
    "        outputs = model.decode(z_shifted)\n",
    "#         outputs = model(batch_features)\n",
>>>>>>> 0e44f242fb424e786e6871e33b126d2123a6b4c5
    "\n",
    "        # compute training reconstruction loss\n",
    "        train_loss = criterion(outputs, new_features)\n",
    "        \n",
    "        # compute accumulated gradients\n",
    "        train_loss.backward()\n",
    "        \n",
    "        # perform parameter update based on current gradients\n",
    "        optimizer.step()\n",
    "        \n",
    "        # add the mini-batch training loss to epoch loss\n",
    "        loss += train_loss.item()\n",
    "    \n",
    "    # compute the epoch training loss\n",
    "    loss = loss / len(train_loader)\n",
    "    \n",
    "    # display the epoch training loss\n",
    "    print(\"epoch : {}/{}, loss = {:.6f}\".format(epochs + 1, epochs, loss))\n",
    "    return outputs,batch_features"
   ]
  },
  {
   "cell_type": "code",
<<<<<<< HEAD
   "execution_count": 533,
=======
   "execution_count": 47,
>>>>>>> 0e44f242fb424e786e6871e33b126d2123a6b4c5
   "id": "018b7ece",
   "metadata": {},
   "outputs": [],
   "source": [
    "# 5 x 5\n",
    "# [-2, -2] [-2. -1]., [-2. 0]., [-2. +1], [-2, +2]\n",
    "# [-1, -2] [-2. -1]., [-2. 0]., [-2. +1], [-2, +2]\n",
    "# [0, -2] [-2. -1]., [-2. 0]., [-2. +1], [-2, +2]\n",
    "# [1, -2] [-2. -1]., [-2. 0]., [-2. +1], [-2, +2]\n",
<<<<<<< HEAD
    "# [2, -2] [-2. -1]., [-2. 0]., [-2. +1], [-2, +2]\n"
=======
    "# [2, -2] [-2. -1]., [-2. 0]., [-2. +1], [-2, +2]"
>>>>>>> 0e44f242fb424e786e6871e33b126d2123a6b4c5
   ]
  },
  {
   "cell_type": "code",
<<<<<<< HEAD
   "execution_count": 534,
   "id": "b0d43144",
   "metadata": {},
   "outputs": [
    {
     "name": "stdout",
     "output_type": "stream",
     "text": [
      "Epoch 1\n",
      "-------------------------------\n",
      "4\n"
     ]
    },
    {
     "ename": "AttributeError",
     "evalue": "'list' object has no attribute 'size'",
     "output_type": "error",
     "traceback": [
      "\u001b[1;31m---------------------------------------------------------------------------\u001b[0m",
      "\u001b[1;31mAttributeError\u001b[0m                            Traceback (most recent call last)",
      "\u001b[1;32m<ipython-input-534-87e6c5fd0d0b>\u001b[0m in \u001b[0;36m<module>\u001b[1;34m\u001b[0m\n\u001b[0;32m      3\u001b[0m \u001b[1;32mfor\u001b[0m \u001b[0mepoch\u001b[0m \u001b[1;32min\u001b[0m \u001b[0mrange\u001b[0m\u001b[1;33m(\u001b[0m\u001b[0mepochs\u001b[0m\u001b[1;33m)\u001b[0m\u001b[1;33m:\u001b[0m\u001b[1;33m\u001b[0m\u001b[1;33m\u001b[0m\u001b[0m\n\u001b[0;32m      4\u001b[0m     \u001b[0mprint\u001b[0m\u001b[1;33m(\u001b[0m\u001b[1;34mf\"Epoch {epoch+1}\\n-------------------------------\"\u001b[0m\u001b[1;33m)\u001b[0m\u001b[1;33m\u001b[0m\u001b[1;33m\u001b[0m\u001b[0m\n\u001b[1;32m----> 5\u001b[1;33m     \u001b[0moutput\u001b[0m \u001b[1;33m=\u001b[0m \u001b[0mtrain\u001b[0m\u001b[1;33m(\u001b[0m\u001b[0mtrain_dataloader\u001b[0m \u001b[1;33m)\u001b[0m\u001b[1;33m\u001b[0m\u001b[1;33m\u001b[0m\u001b[0m\n\u001b[0m\u001b[0;32m      6\u001b[0m     \u001b[0moutputs\u001b[0m\u001b[1;33m.\u001b[0m\u001b[0mappend\u001b[0m\u001b[1;33m(\u001b[0m\u001b[0moutput\u001b[0m\u001b[1;33m)\u001b[0m\u001b[1;33m\u001b[0m\u001b[1;33m\u001b[0m\u001b[0m\n\u001b[0;32m      7\u001b[0m \u001b[1;33m\u001b[0m\u001b[0m\n",
      "\u001b[1;32m<ipython-input-532-f18126b3ba44>\u001b[0m in \u001b[0;36mtrain\u001b[1;34m(train_loader)\u001b[0m\n\u001b[0;32m     13\u001b[0m \u001b[1;33m\u001b[0m\u001b[0m\n\u001b[0;32m     14\u001b[0m         \u001b[1;31m# compute training reconstruction loss\u001b[0m\u001b[1;33m\u001b[0m\u001b[1;33m\u001b[0m\u001b[1;33m\u001b[0m\u001b[0m\n\u001b[1;32m---> 15\u001b[1;33m         \u001b[0mtrain_loss\u001b[0m \u001b[1;33m=\u001b[0m \u001b[0mcriterion\u001b[0m\u001b[1;33m(\u001b[0m\u001b[0moutputs\u001b[0m\u001b[1;33m,\u001b[0m \u001b[0mnew_features\u001b[0m\u001b[1;33m)\u001b[0m\u001b[1;33m\u001b[0m\u001b[1;33m\u001b[0m\u001b[0m\n\u001b[0m\u001b[0;32m     16\u001b[0m \u001b[1;33m\u001b[0m\u001b[0m\n\u001b[0;32m     17\u001b[0m         \u001b[1;31m# compute accumulated gradients\u001b[0m\u001b[1;33m\u001b[0m\u001b[1;33m\u001b[0m\u001b[1;33m\u001b[0m\u001b[0m\n",
      "\u001b[1;32m~\\anaconda3\\lib\\site-packages\\torch\\nn\\modules\\module.py\u001b[0m in \u001b[0;36m_call_impl\u001b[1;34m(self, *input, **kwargs)\u001b[0m\n\u001b[0;32m    887\u001b[0m             \u001b[0mresult\u001b[0m \u001b[1;33m=\u001b[0m \u001b[0mself\u001b[0m\u001b[1;33m.\u001b[0m\u001b[0m_slow_forward\u001b[0m\u001b[1;33m(\u001b[0m\u001b[1;33m*\u001b[0m\u001b[0minput\u001b[0m\u001b[1;33m,\u001b[0m \u001b[1;33m**\u001b[0m\u001b[0mkwargs\u001b[0m\u001b[1;33m)\u001b[0m\u001b[1;33m\u001b[0m\u001b[1;33m\u001b[0m\u001b[0m\n\u001b[0;32m    888\u001b[0m         \u001b[1;32melse\u001b[0m\u001b[1;33m:\u001b[0m\u001b[1;33m\u001b[0m\u001b[1;33m\u001b[0m\u001b[0m\n\u001b[1;32m--> 889\u001b[1;33m             \u001b[0mresult\u001b[0m \u001b[1;33m=\u001b[0m \u001b[0mself\u001b[0m\u001b[1;33m.\u001b[0m\u001b[0mforward\u001b[0m\u001b[1;33m(\u001b[0m\u001b[1;33m*\u001b[0m\u001b[0minput\u001b[0m\u001b[1;33m,\u001b[0m \u001b[1;33m**\u001b[0m\u001b[0mkwargs\u001b[0m\u001b[1;33m)\u001b[0m\u001b[1;33m\u001b[0m\u001b[1;33m\u001b[0m\u001b[0m\n\u001b[0m\u001b[0;32m    890\u001b[0m         for hook in itertools.chain(\n\u001b[0;32m    891\u001b[0m                 \u001b[0m_global_forward_hooks\u001b[0m\u001b[1;33m.\u001b[0m\u001b[0mvalues\u001b[0m\u001b[1;33m(\u001b[0m\u001b[1;33m)\u001b[0m\u001b[1;33m,\u001b[0m\u001b[1;33m\u001b[0m\u001b[1;33m\u001b[0m\u001b[0m\n",
      "\u001b[1;32m~\\anaconda3\\lib\\site-packages\\torch\\nn\\modules\\loss.py\u001b[0m in \u001b[0;36mforward\u001b[1;34m(self, input, target)\u001b[0m\n\u001b[0;32m    526\u001b[0m \u001b[1;33m\u001b[0m\u001b[0m\n\u001b[0;32m    527\u001b[0m     \u001b[1;32mdef\u001b[0m \u001b[0mforward\u001b[0m\u001b[1;33m(\u001b[0m\u001b[0mself\u001b[0m\u001b[1;33m,\u001b[0m \u001b[0minput\u001b[0m\u001b[1;33m:\u001b[0m \u001b[0mTensor\u001b[0m\u001b[1;33m,\u001b[0m \u001b[0mtarget\u001b[0m\u001b[1;33m:\u001b[0m \u001b[0mTensor\u001b[0m\u001b[1;33m)\u001b[0m \u001b[1;33m->\u001b[0m \u001b[0mTensor\u001b[0m\u001b[1;33m:\u001b[0m\u001b[1;33m\u001b[0m\u001b[1;33m\u001b[0m\u001b[0m\n\u001b[1;32m--> 528\u001b[1;33m         \u001b[1;32mreturn\u001b[0m \u001b[0mF\u001b[0m\u001b[1;33m.\u001b[0m\u001b[0mmse_loss\u001b[0m\u001b[1;33m(\u001b[0m\u001b[0minput\u001b[0m\u001b[1;33m,\u001b[0m \u001b[0mtarget\u001b[0m\u001b[1;33m,\u001b[0m \u001b[0mreduction\u001b[0m\u001b[1;33m=\u001b[0m\u001b[0mself\u001b[0m\u001b[1;33m.\u001b[0m\u001b[0mreduction\u001b[0m\u001b[1;33m)\u001b[0m\u001b[1;33m\u001b[0m\u001b[1;33m\u001b[0m\u001b[0m\n\u001b[0m\u001b[0;32m    529\u001b[0m \u001b[1;33m\u001b[0m\u001b[0m\n\u001b[0;32m    530\u001b[0m \u001b[1;33m\u001b[0m\u001b[0m\n",
      "\u001b[1;32m~\\anaconda3\\lib\\site-packages\\torch\\nn\\functional.py\u001b[0m in \u001b[0;36mmse_loss\u001b[1;34m(input, target, size_average, reduce, reduction)\u001b[0m\n\u001b[0;32m   2916\u001b[0m             \u001b[0mmse_loss\u001b[0m\u001b[1;33m,\u001b[0m \u001b[1;33m(\u001b[0m\u001b[0minput\u001b[0m\u001b[1;33m,\u001b[0m \u001b[0mtarget\u001b[0m\u001b[1;33m)\u001b[0m\u001b[1;33m,\u001b[0m \u001b[0minput\u001b[0m\u001b[1;33m,\u001b[0m \u001b[0mtarget\u001b[0m\u001b[1;33m,\u001b[0m \u001b[0msize_average\u001b[0m\u001b[1;33m=\u001b[0m\u001b[0msize_average\u001b[0m\u001b[1;33m,\u001b[0m \u001b[0mreduce\u001b[0m\u001b[1;33m=\u001b[0m\u001b[0mreduce\u001b[0m\u001b[1;33m,\u001b[0m \u001b[0mreduction\u001b[0m\u001b[1;33m=\u001b[0m\u001b[0mreduction\u001b[0m\u001b[1;33m\u001b[0m\u001b[1;33m\u001b[0m\u001b[0m\n\u001b[0;32m   2917\u001b[0m         )\n\u001b[1;32m-> 2918\u001b[1;33m     \u001b[1;32mif\u001b[0m \u001b[1;32mnot\u001b[0m \u001b[1;33m(\u001b[0m\u001b[0mtarget\u001b[0m\u001b[1;33m.\u001b[0m\u001b[0msize\u001b[0m\u001b[1;33m(\u001b[0m\u001b[1;33m)\u001b[0m \u001b[1;33m==\u001b[0m \u001b[0minput\u001b[0m\u001b[1;33m.\u001b[0m\u001b[0msize\u001b[0m\u001b[1;33m(\u001b[0m\u001b[1;33m)\u001b[0m\u001b[1;33m)\u001b[0m\u001b[1;33m:\u001b[0m\u001b[1;33m\u001b[0m\u001b[1;33m\u001b[0m\u001b[0m\n\u001b[0m\u001b[0;32m   2919\u001b[0m         warnings.warn(\n\u001b[0;32m   2920\u001b[0m             \u001b[1;34m\"Using a target size ({}) that is different to the input size ({}). \"\u001b[0m\u001b[1;33m\u001b[0m\u001b[1;33m\u001b[0m\u001b[0m\n",
      "\u001b[1;31mAttributeError\u001b[0m: 'list' object has no attribute 'size'"
     ]
    }
   ],
   "source": [
    "\n",
    "\n",
    "epochs = 6\n",
    "outputs = []    \n",
    "for epoch in range(epochs):\n",
    "    print(f\"Epoch {epoch+1}\\n-------------------------------\")\n",
    "    output = train(train_dataloader )\n",
    "    outputs.append(output)\n",
    "\n",
    "\n",
    "print(\"Finished\")"
   ]
  },
  {
   "cell_type": "code",
   "execution_count": null,
   "id": "b7617b5f",
   "metadata": {},
   "outputs": [],
   "source": []
  },
  {
   "cell_type": "code",
   "execution_count": null,
   "id": "7d29d052",
=======
   "execution_count": null,
   "id": "b0d43144",
>>>>>>> 0e44f242fb424e786e6871e33b126d2123a6b4c5
   "metadata": {},
   "outputs": [],
   "source": []
  }
 ],
 "metadata": {
  "kernelspec": {
   "display_name": "Python 3",
   "language": "python",
   "name": "python3"
<<<<<<< HEAD
=======
  },
  "language_info": {
   "codemirror_mode": {
    "name": "ipython",
    "version": 3
   },
   "file_extension": ".py",
   "mimetype": "text/x-python",
   "name": "python",
   "nbconvert_exporter": "python",
   "pygments_lexer": "ipython3",
   "version": "3.7.7"
>>>>>>> 0e44f242fb424e786e6871e33b126d2123a6b4c5
  }
 },
 "nbformat": 4,
 "nbformat_minor": 5
}
