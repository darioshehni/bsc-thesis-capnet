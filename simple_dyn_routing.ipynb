{
  "nbformat": 4,
  "nbformat_minor": 5,
  "metadata": {
    "kernelspec": {
      "display_name": "Python 3",
      "language": "python",
      "name": "python3"
    },
    "language_info": {
      "codemirror_mode": {
        "name": "ipython",
        "version": 3
      },
      "file_extension": ".py",
      "mimetype": "text/x-python",
      "name": "python",
      "nbconvert_exporter": "python",
      "pygments_lexer": "ipython3",
      "version": "3.7.7"
    },
    "colab": {
      "name": "simple_dyn_routing.ipynb",
      "provenance": []
    }
  },
  "cells": [
    {
      "cell_type": "code",
      "metadata": {
        "id": "cab66646"
      },
      "source": [
        "import torch\n",
        "import torch.nn as nn\n",
        "import torch.nn.functional as F\n",
        "import numpy as np\n",
        "import matplotlib.pyplot as plt"
      ],
      "id": "cab66646",
      "execution_count": 1,
      "outputs": []
    },
    {
      "cell_type": "code",
      "metadata": {
        "id": "dba2822b"
      },
      "source": [
        "def squash(x):\n",
        "    # Any Any Any ..... Any ..... C\n",
        "    x_norm = x.pow(2).sum(-1).sqrt().unsqueeze(-1)\n",
        "    renorm_value = x_norm**2 / (1 + x_norm**2)\n",
        "    return renorm_value * x / x_norm"
      ],
      "id": "dba2822b",
      "execution_count": 2,
      "outputs": []
    },
    {
      "cell_type": "markdown",
      "metadata": {
        "id": "d236a4e0"
      },
      "source": [
        "![](1.png)"
      ],
      "id": "d236a4e0"
    },
    {
      "cell_type": "code",
      "metadata": {
        "id": "804cab6a"
      },
      "source": [
        "# 5 -> 3\n",
        "c_in = torch.randn(5, 2)\n",
        "c_out = torch.randn(3, 2)\n",
        "W = torch.randn(5, 3, 2, 2)\n",
        "b = torch.zeros(5, 3)\n",
        "\n",
        "NUM_ITERATIONS = 10"
      ],
      "id": "804cab6a",
      "execution_count": 3,
      "outputs": []
    },
    {
      "cell_type": "code",
      "metadata": {
        "scrolled": false,
        "colab": {
          "base_uri": "https://localhost:8080/",
          "height": 1000
        },
        "id": "41bc181e",
        "outputId": "1c26b52f-2123-4202-d2d7-6cdc257586d5"
      },
      "source": [
        "# 5 -> 3\n",
        "c_in = torch.randn(5, 2)\n",
        "c_out = torch.randn(3, 2)\n",
        "W = torch.randn(5, 3, 2, 2)\n",
        "\n",
        "NUM_ITERATIONS = 10\n",
        "\n",
        "c_out_prediction = torch.zeros(5, 3, 2)\n",
        "c_out_prediction = (W @ c_in.unsqueeze(1).unsqueeze(-1)).reshape(5,3,2)\n",
        "\n",
        "def dummy_func():\n",
        "    b = torch.zeros(5, 3)\n",
        "\n",
        "    for _ in range(NUM_ITERATIONS):\n",
        "        importance = F.softmax(b, dim=-1)\n",
        "        plt.imshow(importance.numpy().round(1), vmin=0, vmax=1)\n",
        "        plt.show()\n",
        "        c_out = (importance[:, :, None] * c_out_prediction).sum(0)\n",
        "        c_out = squash(c_out)\n",
        "        \n",
        "        similarity = c_out_prediction @ c_out.T\n",
        "        similarity = torch.diagonal(similarity, dim1=-1)\n",
        "\n",
        "        b = b + similarity\n",
        "\n",
        "    return c_out,b\n",
        "\n",
        "dummy_func()"
      ],
      "id": "41bc181e",
      "execution_count": 24,
      "outputs": [
        {
          "output_type": "display_data",
          "data": {
            "image/png": "[encoded data removed]",
            "text/plain": [
              "<Figure size 432x288 with 1 Axes>"
            ]
          },
          "metadata": {
            "tags": [],
            "needs_background": "light"
          }
        },
        {
          "output_type": "display_data",
          "data": {
            "image/png": "[encoded data removed]",
            "text/plain": [
              "<Figure size 432x288 with 1 Axes>"
            ]
          },
          "metadata": {
            "tags": [],
            "needs_background": "light"
          }
        },
        {
          "output_type": "display_data",
          "data": {
            "image/png": "[encoded data removed]",
            "text/plain": [
              "<Figure size 432x288 with 1 Axes>"
            ]
          },
          "metadata": {
            "tags": [],
            "needs_background": "light"
          }
        },
        {
          "output_type": "display_data",
          "data": {
            "image/png": "[encoded data removed]",
            "text/plain": [
              "<Figure size 432x288 with 1 Axes>"
            ]
          },
          "metadata": {
            "tags": [],
            "needs_background": "light"
          }
        },
        {
          "output_type": "display_data",
          "data": {
            "image/png": "[encoded data removed]",
            "text/plain": [
              "<Figure size 432x288 with 1 Axes>"
            ]
          },
          "metadata": {
            "tags": [],
            "needs_background": "light"
          }
        },
        {
          "output_type": "display_data",
          "data": {
            "image/png": "[encoded data removed]",
            "text/plain": [
              "<Figure size 432x288 with 1 Axes>"
            ]
          },
          "metadata": {
            "tags": [],
            "needs_background": "light"
          }
        },
        {
          "output_type": "display_data",
          "data": {
            "image/png": "[encoded data removed]",
            "text/plain": [
              "<Figure size 432x288 with 1 Axes>"
            ]
          },
          "metadata": {
            "tags": [],
            "needs_background": "light"
          }
        },
        {
          "output_type": "display_data",
          "data": {
            "image/png": "[encoded data removed]",
            "text/plain": [
              "<Figure size 432x288 with 1 Axes>"
            ]
          },
          "metadata": {
            "tags": [],
            "needs_background": "light"
          }
        },
        {
          "output_type": "display_data",
          "data": {
            "image/png": "[encoded data removed]",
            "text/plain": [
              "<Figure size 432x288 with 1 Axes>"
            ]
          },
          "metadata": {
            "tags": [],
            "needs_background": "light"
          }
        },
        {
          "output_type": "display_data",
          "data": {
            "image/png": "[encoded data removed]",
            "text/plain": [
              "<Figure size 432x288 with 1 Axes>"
            ]
          },
          "metadata": {
            "tags": [],
            "needs_background": "light"
          }
        },
        {
          "output_type": "execute_result",
          "data": {
            "text/plain": [
              "(tensor([[-7.3849e-01, -6.0064e-01],\n",
              "         [-1.4857e-04, -1.1742e-03],\n",
              "         [-8.9573e-01, -2.5881e-01]]), tensor([[ 10.4606,   1.1539,  17.8045],\n",
              "         [ 25.0116,   0.1719, -24.1930],\n",
              "         [ -2.9548,  -0.0822,   2.8127],\n",
              "         [ 16.3759,   0.3878,  10.3020],\n",
              "         [ -1.2781,  -0.7221,  10.0712]]))"
            ]
          },
          "metadata": {
            "tags": []
          },
          "execution_count": 24
        }
      ]
    },
    {
      "cell_type": "code",
      "metadata": {
        "id": "4c6b4356"
      },
      "source": [
        ""
      ],
      "id": "4c6b4356",
      "execution_count": null,
      "outputs": []
    }
  ]
}