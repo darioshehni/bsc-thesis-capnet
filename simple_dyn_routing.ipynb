{
 "cells": [
  {
   "cell_type": "code",
   "execution_count": 1,
   "id": "cab66646",
   "metadata": {},
   "outputs": [],
   "source": [
    "import torch\n",
    "import torch.nn as nn\n",
    "import torch.nn.functional as F\n",
    "import numpy as np\n",
    "import matplotlib.pyplot as plt"
   ]
  },
  {
   "cell_type": "code",
   "execution_count": 14,
   "id": "dba2822b",
   "metadata": {},
   "outputs": [],
   "source": [
    "def squash(x):\n",
    "    # Any Any Any ..... Any ..... C\n",
    "    x_norm = x.pow(2).sum(-1).sqrt().unsqueeze(-1)\n",
    "    renorm_value = x_norm**2 / (1 + x_norm**2)\n",
    "    return renorm_value * x / x_norm"
   ]
  },
  {
   "cell_type": "markdown",
   "id": "d236a4e0",
   "metadata": {},
   "source": [
    "![](1.png)"
   ]
  },
  {
   "cell_type": "code",
   "execution_count": 37,
   "id": "804cab6a",
   "metadata": {},
   "outputs": [],
   "source": [
    "# 5 -> 3\n",
    "c_in = torch.randn(5, 2)\n",
    "c_out = torch.randn(3, 2)\n",
    "W = torch.randn(5, 3, 2, 2)\n",
    "b = torch.zeros(5, 3)\n",
    "\n",
    "NUM_ITERATIONS = 10"
   ]
  },
  {
   "cell_type": "code",
   "execution_count": null,
   "id": "63bb3846",
   "metadata": {},
   "outputs": [],
   "source": [
    "def dummy_func():\n",
    "    c_out_prediction = torch.zeros(5, 3, 2)\n",
    "    for i in range(5):\n",
    "        for j in range(3):\n",
    "            W_ij = W[i, j]\n",
    "            c_out_prediction[i, j] =  W_ij @ c_in[i]\n",
    "\n",
    "\n",
    "    for _ in range(NUM_ITERATIONS):\n",
    "        importance = F.softmax(b, dim=-1)\n",
    "        plt.imshow(importance.numpy().round(1), vmin=0, vmax=1)\n",
    "        plt.show()\n",
    "        c_out = (importance[:, :, None] * c_out_prediction).sum(0)\n",
    "        c_out = squash(c_out)\n",
    "\n",
    "        for i in range(5):\n",
    "            for j in range(3):\n",
    "                similarity = (c_out_prediction[i, j] * c_out[j]).sum()\n",
    "                b[i, j] = b[i, j] + similarity\n",
    "    return c_out, b\n",
    "                \n",
    "                \n",
    "                \n",
    "def my_func(....):\n",
    "    return c_out, b"
   ]
  },
  {
   "cell_type": "code",
   "execution_count": 41,
   "id": "41bc181e",
   "metadata": {
    "scrolled": false
   },
   "outputs": [
    {
     "data": {
      "image/png": "[encoded data removed]",
      "text/plain": [
       "<Figure size 432x288 with 1 Axes>"
      ]
     },
     "metadata": {
      "needs_background": "light"
     },
     "output_type": "display_data"
    },
    {
     "data": {
      "image/png": "[encoded data removed]",
      "text/plain": [
       "<Figure size 432x288 with 1 Axes>"
      ]
     },
     "metadata": {
      "needs_background": "light"
     },
     "output_type": "display_data"
    },
    {
     "data": {
      "image/png": "[encoded data removed]",
      "text/plain": [
       "<Figure size 432x288 with 1 Axes>"
      ]
     },
     "metadata": {
      "needs_background": "light"
     },
     "output_type": "display_data"
    },
    {
     "data": {
      "image/png": "[encoded data removed]",
      "text/plain": [
       "<Figure size 432x288 with 1 Axes>"
      ]
     },
     "metadata": {
      "needs_background": "light"
     },
     "output_type": "display_data"
    },
    {
     "data": {
      "image/png": "[encoded data removed]",
      "text/plain": [
       "<Figure size 432x288 with 1 Axes>"
      ]
     },
     "metadata": {
      "needs_background": "light"
     },
     "output_type": "display_data"
    },
    {
     "data": {
      "image/png": "[encoded data removed]",
      "text/plain": [
       "<Figure size 432x288 with 1 Axes>"
      ]
     },
     "metadata": {
      "needs_background": "light"
     },
     "output_type": "display_data"
    },
    {
     "data": {
      "image/png": "[encoded data removed]",
      "text/plain": [
       "<Figure size 432x288 with 1 Axes>"
      ]
     },
     "metadata": {
      "needs_background": "light"
     },
     "output_type": "display_data"
    },
    {
     "data": {
      "image/png": "[encoded data removed]",
      "text/plain": [
       "<Figure size 432x288 with 1 Axes>"
      ]
     },
     "metadata": {
      "needs_background": "light"
     },
     "output_type": "display_data"
    },
    {
     "data": {
      "image/png": "[encoded data removed]",
      "text/plain": [
       "<Figure size 432x288 with 1 Axes>"
      ]
     },
     "metadata": {
      "needs_background": "light"
     },
     "output_type": "display_data"
    },
    {
     "data": {
      "image/png": "[encoded data removed]",
      "text/plain": [
       "<Figure size 432x288 with 1 Axes>"
      ]
     },
     "metadata": {
      "needs_background": "light"
     },
     "output_type": "display_data"
    }
   ],
   "source": [
    "c_out_prediction = torch.zeros(5, 3, 2)\n",
    "for i in range(5):\n",
    "    for j in range(3):\n",
    "        W_ij = W[i, j]\n",
    "        c_out_prediction[i, j] =  W_ij @ c_in[i]\n",
    "\n",
    "\n",
    "for _ in range(NUM_ITERATIONS):\n",
    "    importance = F.softmax(b, dim=-1)\n",
    "    plt.imshow(importance.numpy().round(1), vmin=0, vmax=1)\n",
    "    plt.show()\n",
    "    c_out = (importance[:, :, None] * c_out_prediction).sum(0)\n",
    "    c_out = squash(c_out)\n",
    "    \n",
    "    for i in range(5):\n",
    "        for j in range(3):\n",
    "            similarity = (c_out_prediction[i, j] * c_out[j]).sum()\n",
    "            b[i, j] = b[i, j] + similarity"
   ]
  },
  {
   "cell_type": "code",
   "execution_count": null,
   "id": "09426939",
   "metadata": {},
   "outputs": [],
   "source": []
  },
  {
   "cell_type": "code",
   "execution_count": null,
   "id": "05691372",
   "metadata": {},
   "outputs": [],
   "source": []
  },
  {
   "cell_type": "code",
   "execution_count": null,
   "id": "7ff99f76",
   "metadata": {},
   "outputs": [],
   "source": []
  },
  {
   "cell_type": "code",
   "execution_count": null,
   "id": "1afb94f5",
   "metadata": {},
   "outputs": [],
   "source": []
  },
  {
   "cell_type": "code",
   "execution_count": null,
   "id": "644419b8",
   "metadata": {},
   "outputs": [],
   "source": []
  },
  {
   "cell_type": "code",
   "execution_count": null,
   "id": "355ce35b",
   "metadata": {},
   "outputs": [],
   "source": []
  },
  {
   "cell_type": "code",
   "execution_count": null,
   "id": "4c6b4356",
   "metadata": {},
   "outputs": [],
   "source": []
  }
 ],
 "metadata": {
  "kernelspec": {
   "display_name": "Python 3",
   "language": "python",
   "name": "python3"
  },
  "language_info": {
   "codemirror_mode": {
    "name": "ipython",
    "version": 3
   },
   "file_extension": ".py",
   "mimetype": "text/x-python",
   "name": "python",
   "nbconvert_exporter": "python",
   "pygments_lexer": "ipython3",
   "version": "3.7.7"
  }
 },
 "nbformat": 4,
 "nbformat_minor": 5
}
