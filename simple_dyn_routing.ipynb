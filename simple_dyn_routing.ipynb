{
  "nbformat": 4,
  "nbformat_minor": 5,
  "metadata": {
    "kernelspec": {
      "display_name": "Python 3",
      "language": "python",
      "name": "python3"
    },
    "language_info": {
      "codemirror_mode": {
        "name": "ipython",
        "version": 3
      },
      "file_extension": ".py",
      "mimetype": "text/x-python",
      "name": "python",
      "nbconvert_exporter": "python",
      "pygments_lexer": "ipython3",
      "version": "3.7.7"
    },
    "colab": {
      "name": "simple_dyn_routing.ipynb",
      "provenance": []
    }
  },
  "cells": [
    {
      "cell_type": "code",
      "metadata": {
        "id": "cab66646"
      },
      "source": [
        "import torch\n",
        "import torch.nn as nn\n",
        "import torch.nn.functional as F\n",
        "import numpy as np\n",
        "import matplotlib.pyplot as plt"
      ],
      "id": "cab66646",
      "execution_count": 49,
      "outputs": []
    },
    {
      "cell_type": "code",
      "metadata": {
        "id": "dba2822b"
      },
      "source": [
        "def squash(x):\n",
        "    # Any Any Any ..... Any ..... C\n",
        "    x_norm = x.pow(2).sum(-1).sqrt().unsqueeze(-1)\n",
        "    renorm_value = x_norm**2 / (1 + x_norm**2)\n",
        "    return renorm_value * x / x_norm"
      ],
      "id": "dba2822b",
      "execution_count": 50,
      "outputs": []
    },
    {
      "cell_type": "markdown",
      "metadata": {
        "id": "d236a4e0"
      },
      "source": [
        "![](1.png)"
      ],
      "id": "d236a4e0"
    },
    {
      "cell_type": "code",
      "metadata": {
        "id": "804cab6a"
      },
      "source": [
        "# 5 -> 3\n",
        "c_in = torch.randn(5, 2)\n",
        "c_out = torch.randn(3, 2)\n",
        "W = torch.randn(5, 3, 2, 2)\n",
        "b = torch.zeros(5, 3)\n",
        "\n",
        "NUM_ITERATIONS = 10"
      ],
      "id": "804cab6a",
      "execution_count": 51,
      "outputs": []
    },
    {
      "cell_type": "code",
      "metadata": {
        "colab": {
          "base_uri": "https://localhost:8080/",
          "height": 132
        },
        "id": "63bb3846",
        "outputId": "080996f4-5fde-4624-9593-bd90a9d43540"
      },
      "source": [
        "def dummy_func():\n",
        "    c_out_prediction = torch.zeros(5, 3, 2)\n",
        "    for i in range(5):\n",
        "        for j in range(3):\n",
        "            W_ij = W[i, j]\n",
        "            c_out_prediction[i, j] =  W_ij @ c_in[i]\n",
        "\n",
        "\n",
        "    for _ in range(NUM_ITERATIONS):\n",
        "        importance = F.softmax(b, dim=-1)\n",
        "        plt.imshow(importance.numpy().round(1), vmin=0, vmax=1)\n",
        "        plt.show()\n",
        "        c_out = (importance[:, :, None] * c_out_prediction).sum(0)\n",
        "        c_out = squash(c_out)\n",
        "\n",
        "        for i in range(5):\n",
        "            for j in range(3):\n",
        "                similarity = (c_out_prediction[i, j] * c_out[j]).sum()\n",
        "                b[i, j] = b[i, j] + similarity\n",
        "    return c_out, b\n",
        "                \n",
        "                \n",
        "                \n",
        "def my_func(....):\n",
        "    return c_out, b"
      ],
      "id": "63bb3846",
      "execution_count": 52,
      "outputs": [
        {
          "output_type": "error",
          "ename": "SyntaxError",
          "evalue": "ignored",
          "traceback": [
            "\u001b[0;36m  File \u001b[0;32m\"<ipython-input-52-e1cb568cd3d5>\"\u001b[0;36m, line \u001b[0;32m24\u001b[0m\n\u001b[0;31m    def my_func(....):\u001b[0m\n\u001b[0m                  ^\u001b[0m\n\u001b[0;31mSyntaxError\u001b[0m\u001b[0;31m:\u001b[0m invalid syntax\n"
          ]
        }
      ]
    },
    {
      "cell_type": "code",
      "metadata": {
        "scrolled": false,
        "colab": {
          "base_uri": "https://localhost:8080/",
          "height": 1000
        },
        "id": "41bc181e",
        "outputId": "ed265a66-7f00-4cfd-e264-95e68fa5ee6c"
      },
      "source": [
        "# 5 -> 3\n",
        "c_in = torch.randn(5, 2)\n",
        "c_out = torch.randn(3, 2)\n",
        "W = torch.randn(5, 3, 2, 2)\n",
        "b = torch.zeros(5, 3)\n",
        "\n",
        "NUM_ITERATIONS = 10\n",
        "\n",
        "c_out_prediction = torch.zeros(5, 3, 2)\n",
        "c_out_prediction = (W @ c_in.unsqueeze(1).unsqueeze(-1)).reshape(5,3,2)\n",
        "\n",
        "for _ in range(NUM_ITERATIONS):\n",
        "    importance = F.softmax(b, dim=-1)\n",
        "    plt.imshow(importance.numpy().round(1), vmin=0, vmax=1)\n",
        "    plt.show()\n",
        "    c_out = (importance[:, :, None] * c_out_prediction).sum(0)\n",
        "    c_out = squash(c_out)\n",
        "    \n",
        "    for i in range(5):\n",
        "        similarity = c_out_prediction[i] @ c_out.T\n",
        "        similarity = torch.diagonal(similarity, 0)\n",
        "        b[i] = b[i] + similarity\n",
        "b"
      ],
      "id": "41bc181e",
      "execution_count": 54,
      "outputs": [
        {
          "output_type": "display_data",
          "data": {
            "image/png": "[encoded data removed]",
            "text/plain": [
              "<Figure size 432x288 with 1 Axes>"
            ]
          },
          "metadata": {
            "tags": [],
            "needs_background": "light"
          }
        },
        {
          "output_type": "display_data",
          "data": {
            "image/png": "[encoded data removed]",
            "text/plain": [
              "<Figure size 432x288 with 1 Axes>"
            ]
          },
          "metadata": {
            "tags": [],
            "needs_background": "light"
          }
        },
        {
          "output_type": "display_data",
          "data": {
            "image/png": "[encoded data removed]",
            "text/plain": [
              "<Figure size 432x288 with 1 Axes>"
            ]
          },
          "metadata": {
            "tags": [],
            "needs_background": "light"
          }
        },
        {
          "output_type": "display_data",
          "data": {
            "image/png": "[encoded data removed]",
            "text/plain": [
              "<Figure size 432x288 with 1 Axes>"
            ]
          },
          "metadata": {
            "tags": [],
            "needs_background": "light"
          }
        },
        {
          "output_type": "display_data",
          "data": {
            "image/png": "[encoded data removed]",
            "text/plain": [
              "<Figure size 432x288 with 1 Axes>"
            ]
          },
          "metadata": {
            "tags": [],
            "needs_background": "light"
          }
        },
        {
          "output_type": "display_data",
          "data": {
            "image/png": "[encoded data removed]",
            "text/plain": [
              "<Figure size 432x288 with 1 Axes>"
            ]
          },
          "metadata": {
            "tags": [],
            "needs_background": "light"
          }
        },
        {
          "output_type": "display_data",
          "data": {
            "image/png": "[encoded data removed]",
            "text/plain": [
              "<Figure size 432x288 with 1 Axes>"
            ]
          },
          "metadata": {
            "tags": [],
            "needs_background": "light"
          }
        },
        {
          "output_type": "display_data",
          "data": {
            "image/png": "[encoded data removed]",
            "text/plain": [
              "<Figure size 432x288 with 1 Axes>"
            ]
          },
          "metadata": {
            "tags": [],
            "needs_background": "light"
          }
        },
        {
          "output_type": "display_data",
          "data": {
            "image/png": "[encoded data removed]",
            "text/plain": [
              "<Figure size 432x288 with 1 Axes>"
            ]
          },
          "metadata": {
            "tags": [],
            "needs_background": "light"
          }
        },
        {
          "output_type": "display_data",
          "data": {
            "image/png": "[encoded data removed]",
            "text/plain": [
              "<Figure size 432x288 with 1 Axes>"
            ]
          },
          "metadata": {
            "tags": [],
            "needs_background": "light"
          }
        },
        {
          "output_type": "execute_result",
          "data": {
            "text/plain": [
              "tensor([[ 0.2990, -2.3666,  0.8844],\n",
              "        [ 1.5233,  2.4035, -1.8743],\n",
              "        [ 5.8259,  2.7250, -0.7080],\n",
              "        [ 2.2345, 27.6440,  1.3266],\n",
              "        [ 1.1827, -1.0891,  2.5037]])"
            ]
          },
          "metadata": {
            "tags": []
          },
          "execution_count": 54
        }
      ]
    },
    {
      "cell_type": "code",
      "metadata": {
        "id": "4c6b4356"
      },
      "source": [
        ""
      ],
      "id": "4c6b4356",
      "execution_count": null,
      "outputs": []
    }
  ]
}