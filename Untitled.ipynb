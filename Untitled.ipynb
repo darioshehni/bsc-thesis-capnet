{
 "cells": [
  {
   "cell_type": "code",
   "execution_count": 1,
   "id": "a0e0991b",
   "metadata": {},
   "outputs": [],
   "source": [
    "import torch\n",
    "import torch.nn as nn"
   ]
  },
  {
   "cell_type": "code",
   "execution_count": 2,
   "id": "40be6080",
   "metadata": {},
   "outputs": [],
   "source": [
    "x = torch.randn(1, 1, 20, 20)"
   ]
  },
  {
   "cell_type": "code",
   "execution_count": 9,
   "id": "80b0f2cf",
   "metadata": {},
   "outputs": [],
   "source": [
    "class PrimaryCaps(nn.Module):\n",
    "    \n",
    "    def __init__(self):\n",
    "        super().__init__()\n",
    "        self.conv = nn.Conv2d(1, 32*8, 9, 2)\n",
    "        \n",
    "        \n",
    "    def forward(self, x):\n",
    "        x = self.conv(x)\n",
    "#         print(x.shape)\n",
    "        x = x.view(len(x), 8, -1)\n",
    "#         print(x.shape)\n",
    "        x = x.permute(0, 2, 1)\n",
    "#         squash\n",
    "        x_norm = x.pow(2).sum(-1).sqrt()[:, :, None]\n",
    "        x = x_norm / (1 + x_norm**2) * x\n",
    "        return x"
   ]
  },
  {
   "cell_type": "code",
   "execution_count": 10,
   "id": "37c34b59",
   "metadata": {},
   "outputs": [],
   "source": [
    "y = PrimaryCaps()(x)"
   ]
  },
  {
   "cell_type": "code",
   "execution_count": 14,
   "id": "0e259afe",
   "metadata": {},
   "outputs": [
    {
     "data": {
      "text/plain": [
       "tensor(0.1993, grad_fn=<MinBackward1>)"
      ]
     },
     "execution_count": 14,
     "metadata": {},
     "output_type": "execute_result"
    }
   ],
   "source": [
    "y.pow(2).sum(-1).sqrt().min()"
   ]
  },
  {
   "cell_type": "code",
   "execution_count": 15,
   "id": "274cd3e7",
   "metadata": {},
   "outputs": [
    {
     "data": {
      "text/plain": [
       "torch.Size([1, 1152, 8])"
      ]
     },
     "execution_count": 15,
     "metadata": {},
     "output_type": "execute_result"
    }
   ],
   "source": [
    "y.shape"
   ]
  },
  {
   "cell_type": "code",
   "execution_count": null,
   "id": "8b315176",
   "metadata": {},
   "outputs": [],
   "source": [
    "[10, 1152, 16, 8]"
   ]
  },
  {
   "cell_type": "code",
   "execution_count": 16,
   "id": "323c292a",
   "metadata": {},
   "outputs": [
    {
     "data": {
      "text/plain": [
       "128"
      ]
     },
     "execution_count": 16,
     "metadata": {},
     "output_type": "execute_result"
    }
   ],
   "source": [
    "16 * 8 "
   ]
  },
  {
   "cell_type": "code",
   "execution_count": 24,
   "id": "38c7240d",
   "metadata": {},
   "outputs": [],
   "source": [
    "from scipy import ndimage\n",
    "import torch\n",
    "from torchvision import transforms as T"
   ]
  },
  {
   "cell_type": "code",
   "execution_count": 36,
   "id": "4369332b",
   "metadata": {},
   "outputs": [
    {
     "name": "stdout",
     "output_type": "stream",
     "text": [
      "tensor([[[[-1., -1.,  1.],\n",
      "          [ 0.,  0., -0.],\n",
      "          [-0.,  0.,  0.]]]])\n"
     ]
    },
    {
     "data": {
      "text/plain": [
       "tensor([[[[ 0.,  0., -0.],\n",
       "          [-0.,  0.,  0.],\n",
       "          [ 1., -1., -1.]]]])"
      ]
     },
     "execution_count": 36,
     "metadata": {},
     "output_type": "execute_result"
    }
   ],
   "source": [
    "x = torch.randn(1, 1, 3, 3).round()\n",
    "print(x)\n",
    "T.functional.rotate(x, 180)"
   ]
  },
  {
   "cell_type": "code",
   "execution_count": null,
   "id": "c636c54a",
   "metadata": {},
   "outputs": [],
   "source": []
  }
 ],
 "metadata": {
  "kernelspec": {
   "display_name": "Python 3",
   "language": "python",
   "name": "python3"
  },
  "language_info": {
   "codemirror_mode": {
    "name": "ipython",
    "version": 3
   },
   "file_extension": ".py",
   "mimetype": "text/x-python",
   "name": "python",
   "nbconvert_exporter": "python",
   "pygments_lexer": "ipython3",
   "version": "3.7.7"
  }
 },
 "nbformat": 4,
 "nbformat_minor": 5
}
