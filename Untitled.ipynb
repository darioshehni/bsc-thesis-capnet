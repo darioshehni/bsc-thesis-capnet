{
 "cells": [
  {
   "cell_type": "code",
   "execution_count": 1,
   "id": "84a510d7",
   "metadata": {},
   "outputs": [],
   "source": [
    "import torch\n",
    "import torch.nn as nn"
   ]
  },
  {
   "cell_type": "code",
   "execution_count": 2,
   "id": "88d703c5",
   "metadata": {},
   "outputs": [],
   "source": [
    "x = torch.randn(1, 1, 20, 20)"
   ]
  },
  {
   "cell_type": "code",
   "execution_count": 9,
   "id": "f6b767f9",
   "metadata": {},
   "outputs": [],
   "source": [
    "class PrimaryCaps(nn.Module):\n",
    "    \n",
    "    def __init__(self):\n",
    "        super().__init__()\n",
    "        self.conv = nn.Conv2d(1, 32*8, 9, 2)\n",
    "        \n",
    "        \n",
    "    def forward(self, x):\n",
    "        x = self.conv(x)\n",
    "#         print(x.shape)\n",
    "        x = x.view(len(x), 8, -1)\n",
    "#         print(x.shape)\n",
    "        x = x.permute(0, 2, 1)\n",
    "#         squash\n",
    "        x_norm = x.pow(2).sum(-1).sqrt()[:, :, None]\n",
    "        x = x_norm / (1 + x_norm**2) * x\n",
    "        return x"
   ]
  },
  {
   "cell_type": "code",
   "execution_count": 10,
   "id": "e241f301",
   "metadata": {},
   "outputs": [],
   "source": [
    "y = PrimaryCaps()(x)"
   ]
  },
  {
   "cell_type": "code",
   "execution_count": 14,
   "id": "0fd55b01",
   "metadata": {},
   "outputs": [
    {
     "data": {
      "text/plain": [
       "tensor(0.1993, grad_fn=<MinBackward1>)"
      ]
     },
     "execution_count": 14,
     "metadata": {},
     "output_type": "execute_result"
    }
   ],
   "source": [
    "y.pow(2).sum(-1).sqrt().min()"
   ]
  },
  {
   "cell_type": "code",
   "execution_count": 15,
   "id": "c8f70f09",
   "metadata": {},
   "outputs": [
    {
     "data": {
      "text/plain": [
       "torch.Size([1, 1152, 8])"
      ]
     },
     "execution_count": 15,
     "metadata": {},
     "output_type": "execute_result"
    }
   ],
   "source": [
    "y.shape"
   ]
  },
  {
   "cell_type": "code",
   "execution_count": null,
   "id": "fce83f2a",
   "metadata": {},
   "outputs": [],
   "source": [
    "[10, 1152, 16, 8]"
   ]
  },
  {
   "cell_type": "code",
   "execution_count": 16,
   "id": "c93b7105",
   "metadata": {},
   "outputs": [
    {
     "data": {
      "text/plain": [
       "128"
      ]
     },
     "execution_count": 16,
     "metadata": {},
     "output_type": "execute_result"
    }
   ],
   "source": [
    "16 * 8 "
   ]
  },
  {
   "cell_type": "code",
   "execution_count": 17,
   "id": "61508e0e",
   "metadata": {},
   "outputs": [
    {
     "data": {
      "text/plain": [
       "16"
      ]
     },
     "execution_count": 17,
     "metadata": {},
     "output_type": "execute_result"
    }
   ],
   "source": [
    "4 * 4"
   ]
  },
  {
   "cell_type": "code",
   "execution_count": null,
   "id": "0714ae97",
   "metadata": {},
   "outputs": [],
   "source": []
  }
 ],
 "metadata": {
  "kernelspec": {
   "display_name": "Python 3",
   "language": "python",
   "name": "python3"
  },
  "language_info": {
   "codemirror_mode": {
    "name": "ipython",
    "version": 3
   },
   "file_extension": ".py",
   "mimetype": "text/x-python",
   "name": "python",
   "nbconvert_exporter": "python",
   "pygments_lexer": "ipython3",
   "version": "3.7.7"
  }
 },
 "nbformat": 4,
 "nbformat_minor": 5
}
